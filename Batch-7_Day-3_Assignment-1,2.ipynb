{
 "cells": [
  {
   "cell_type": "markdown",
   "metadata": {},
   "source": [
    "# Assignment-1"
   ]
  },
  {
   "cell_type": "code",
   "execution_count": 4,
   "metadata": {},
   "outputs": [
    {
     "name": "stdout",
     "output_type": "stream",
     "text": [
      "Enter altitude-2500\n",
      "bring down the plane to 1000\n"
     ]
    }
   ],
   "source": [
    "alt = input(\"Enter altitude-\")\n",
    "alt = int(alt)\n",
    "if alt == 1000:\n",
    "        print(\"plane is safe to land\")\n",
    "elif alt > 1000 and alt < 5000:\n",
    "        print(\"bring down the plane to 1000\")\n",
    "else:\n",
    "        print(\"try it later\")"
   ]
  },
  {
   "cell_type": "code",
   "execution_count": 5,
   "metadata": {},
   "outputs": [
    {
     "name": "stdout",
     "output_type": "stream",
     "text": [
      "Enter altitude-1000\n",
      "plane is safe to land\n"
     ]
    }
   ],
   "source": [
    "alt = input(\"Enter altitude-\")\n",
    "alt = int(alt)\n",
    "if alt == 1000:\n",
    "        print(\"plane is safe to land\")\n",
    "elif alt > 1000 and alt < 5000:\n",
    "        print(\"bring down the plane to 1000\")\n",
    "else:\n",
    "        print(\"try it later\")"
   ]
  },
  {
   "cell_type": "code",
   "execution_count": 6,
   "metadata": {},
   "outputs": [
    {
     "name": "stdout",
     "output_type": "stream",
     "text": [
      "Enter altitude-6000\n",
      "try it later\n"
     ]
    }
   ],
   "source": [
    "alt = input(\"Enter altitude-\")\n",
    "alt = int(alt)\n",
    "if alt == 1000:\n",
    "        print(\"plane is safe to land\")\n",
    "elif alt > 1000 and alt < 5000:\n",
    "        print(\"bring down the plane to 1000\")\n",
    "else:\n",
    "        print(\"try it later\")"
   ]
  },
  {
   "cell_type": "markdown",
   "metadata": {},
   "source": [
    "# Assignment-2"
   ]
  },
  {
   "cell_type": "code",
   "execution_count": 26,
   "metadata": {},
   "outputs": [
    {
     "name": "stdout",
     "output_type": "stream",
     "text": [
      "Enter any number between-3\n",
      "3 is a prime number\n"
     ]
    }
   ],
   "source": [
    "num= input(\"Enter any number between-\")\n",
    "num= int(num)\n",
    "\n",
    "\n",
    "\n",
    "\n",
    "if num > 1:\n",
    "  \n",
    "   for i in range(2,num):\n",
    "       if (num % i) == 0:\n",
    "           print(num,\"is not a prime number\")\n",
    "           \n",
    "           break\n",
    "   else:\n",
    "       print(num,\"is a prime number\")\n",
    "       \n",
    "\n",
    "else:\n",
    "   print(num,\"is not a prime number\")"
   ]
  },
  {
   "cell_type": "code",
   "execution_count": 28,
   "metadata": {},
   "outputs": [
    {
     "name": "stdout",
     "output_type": "stream",
     "text": [
      "Enter any number between-22\n",
      "22 is not a prime number\n"
     ]
    }
   ],
   "source": [
    "num= input(\"Enter any number between-\")\n",
    "num= int(num)\n",
    "\n",
    "\n",
    "\n",
    "\n",
    "if num > 1:\n",
    "  \n",
    "   for i in range(2,num):\n",
    "       if (num % i) == 0:\n",
    "           print(num,\"is not a prime number\")\n",
    "           \n",
    "           break\n",
    "   else:\n",
    "       print(num,\"is a prime number\")\n",
    "       \n",
    "\n",
    "else:\n",
    "   print(num,\"is not a prime number\")"
   ]
  },
  {
   "cell_type": "code",
   "execution_count": 29,
   "metadata": {},
   "outputs": [
    {
     "name": "stdout",
     "output_type": "stream",
     "text": [
      "Enter any number between-199\n",
      "199 is a prime number\n"
     ]
    }
   ],
   "source": [
    "num= input(\"Enter any number between-\")\n",
    "num= int(num)\n",
    "\n",
    "\n",
    "\n",
    "\n",
    "if num > 1:\n",
    "  \n",
    "   for i in range(2,num):\n",
    "       if (num % i) == 0:\n",
    "           print(num,\"is not a prime number\")\n",
    "           \n",
    "           break\n",
    "   else:\n",
    "       print(num,\"is a prime number\")\n",
    "       \n",
    "\n",
    "else:\n",
    "   print(num,\"is not a prime number\")"
   ]
  },
  {
   "cell_type": "code",
   "execution_count": null,
   "metadata": {},
   "outputs": [],
   "source": []
  }
 ],
 "metadata": {
  "kernelspec": {
   "display_name": "Python 3",
   "language": "python",
   "name": "python3"
  },
  "language_info": {
   "codemirror_mode": {
    "name": "ipython",
    "version": 3
   },
   "file_extension": ".py",
   "mimetype": "text/x-python",
   "name": "python",
   "nbconvert_exporter": "python",
   "pygments_lexer": "ipython3",
   "version": "3.8.3"
  }
 },
 "nbformat": 4,
 "nbformat_minor": 4
}
